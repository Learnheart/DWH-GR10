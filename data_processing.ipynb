{
 "cells": [
  {
   "cell_type": "code",
   "execution_count": null,
   "metadata": {},
   "outputs": [
    {
     "name": "stdout",
     "output_type": "stream",
     "text": [
      "Saved Genre.csv\n",
      "Saved MediaType.csv\n",
      "Saved Artist.csv\n",
      "Saved Album.csv\n",
      "Saved Track.csv\n",
      "Saved Employee.csv\n",
      "Saved Customer.csv\n",
      "Saved Invoice.csv\n",
      "Saved InvoiceLine.csv\n",
      "Saved Playlist.csv\n",
      "Saved PlaylistTrack.csv\n"
     ]
    },
    {
     "name": "stderr",
     "output_type": "stream",
     "text": [
      "<>:4: SyntaxWarning: invalid escape sequence '\\C'\n",
      "<>:4: SyntaxWarning: invalid escape sequence '\\C'\n",
      "C:\\Users\\dell\\AppData\\Local\\Temp\\ipykernel_14388\\3809597386.py:4: SyntaxWarning: invalid escape sequence '\\C'\n",
      "  file_path = 'chinook-database-master\\ChinookDatabase\\DataSources\\ChinookData.json'\n"
     ]
    }
   ],
   "source": [
    "import pandas as pd\n",
    "import json \n",
    "\n",
    "file_path = 'chinook-database-master\\ChinookDatabase\\DataSources\\ChinookData.json'\n",
    "\n",
    "with open(file_path, 'r', encoding='utf-8') as file:\n",
    "    data = json.load(file)\n",
    "\n",
    "tables = [\"Genre\", \"MediaType\", \"Artist\", \"Album\", \"Track\", \"Employee\", \"Customer\", \"Invoice\", \"InvoiceLine\", \"Playlist\", \"PlaylistTrack\"]\n",
    "\n",
    "for table in tables:\n",
    "    if table in data:\n",
    "        df = pd.DataFrame(data[table])\n",
    "        df.to_csv(f\"{table}.csv\", index=False, encoding='utf-8')\n",
    "        print(f\"Saved {table}.csv\")\n",
    "    else:\n",
    "        print(f\"Table {table} not found in the JSON file.\")\n"
   ]
  }
 ],
 "metadata": {
  "kernelspec": {
   "display_name": "deployment",
   "language": "python",
   "name": "python3"
  },
  "language_info": {
   "codemirror_mode": {
    "name": "ipython",
    "version": 3
   },
   "file_extension": ".py",
   "mimetype": "text/x-python",
   "name": "python",
   "nbconvert_exporter": "python",
   "pygments_lexer": "ipython3",
   "version": "3.12.2"
  }
 },
 "nbformat": 4,
 "nbformat_minor": 2
}
