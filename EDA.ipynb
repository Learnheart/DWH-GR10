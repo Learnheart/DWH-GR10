{
 "cells": [
  {
   "cell_type": "markdown",
   "metadata": {},
   "source": [
    "## Load Data"
   ]
  },
  {
   "cell_type": "code",
   "execution_count": 2,
   "metadata": {},
   "outputs": [],
   "source": [
    "import pandas as pd"
   ]
  },
  {
   "cell_type": "code",
   "execution_count": 31,
   "metadata": {},
   "outputs": [],
   "source": [
    "genre = pd.read_csv('./data/Genre.csv')\n",
    "track = pd.read_csv('./data/Track.csv')\n",
    "\n",
    "invoiceline = pd.read_csv('./data/InvoiceLine.csv')\n",
    "\n",
    "playlist = pd.read_csv('./data/Playlist.csv')\n",
    "playlisttrack = pd.read_csv('./data/PlaylistTrack.csv')\n",
    "\n",
    "album = pd.read_csv('./data/Album.csv')\n",
    "artist = pd.read_csv('./data/Artist.csv')\n",
    "customer = pd.read_csv('./data/Customer.csv')\n",
    "employee = pd.read_csv('./data/Employee.csv')\n",
    "\n",
    "media_type = pd.read_csv('./data/MediaType.csv')\n",
    "\n"
   ]
  },
  {
   "cell_type": "markdown",
   "metadata": {},
   "source": [
    "### Genre (drop duplicated)"
   ]
  },
  {
   "cell_type": "code",
   "execution_count": 34,
   "metadata": {},
   "outputs": [
    {
     "data": {
      "text/plain": [
       "0"
      ]
     },
     "execution_count": 34,
     "metadata": {},
     "output_type": "execute_result"
    }
   ],
   "source": [
    "genre.duplicated().sum()"
   ]
  },
  {
   "cell_type": "code",
   "execution_count": 12,
   "metadata": {},
   "outputs": [
    {
     "data": {
      "text/plain": [
       "(257, 2)"
      ]
     },
     "execution_count": 12,
     "metadata": {},
     "output_type": "execute_result"
    }
   ],
   "source": [
    "genre = genre.drop_duplicates()\n",
    "genre.shape"
   ]
  },
  {
   "cell_type": "code",
   "execution_count": 13,
   "metadata": {},
   "outputs": [],
   "source": [
    "import numpy as np\n",
    "genre['GenreId'] = np.nan"
   ]
  },
  {
   "cell_type": "code",
   "execution_count": 14,
   "metadata": {},
   "outputs": [
    {
     "data": {
      "text/html": [
       "<div>\n",
       "<style scoped>\n",
       "    .dataframe tbody tr th:only-of-type {\n",
       "        vertical-align: middle;\n",
       "    }\n",
       "\n",
       "    .dataframe tbody tr th {\n",
       "        vertical-align: top;\n",
       "    }\n",
       "\n",
       "    .dataframe thead th {\n",
       "        text-align: right;\n",
       "    }\n",
       "</style>\n",
       "<table border=\"1\" class=\"dataframe\">\n",
       "  <thead>\n",
       "    <tr style=\"text-align: right;\">\n",
       "      <th></th>\n",
       "      <th>Name</th>\n",
       "      <th>GenreId</th>\n",
       "    </tr>\n",
       "  </thead>\n",
       "  <tbody>\n",
       "    <tr>\n",
       "      <th>0</th>\n",
       "      <td>Rock</td>\n",
       "      <td>1</td>\n",
       "    </tr>\n",
       "    <tr>\n",
       "      <th>1</th>\n",
       "      <td>Jazz</td>\n",
       "      <td>2</td>\n",
       "    </tr>\n",
       "    <tr>\n",
       "      <th>2</th>\n",
       "      <td>Metal</td>\n",
       "      <td>3</td>\n",
       "    </tr>\n",
       "    <tr>\n",
       "      <th>3</th>\n",
       "      <td>Alternative &amp; Punk</td>\n",
       "      <td>4</td>\n",
       "    </tr>\n",
       "    <tr>\n",
       "      <th>4</th>\n",
       "      <td>Rock And Roll</td>\n",
       "      <td>5</td>\n",
       "    </tr>\n",
       "  </tbody>\n",
       "</table>\n",
       "</div>"
      ],
      "text/plain": [
       "                 Name  GenreId\n",
       "0                Rock        1\n",
       "1                Jazz        2\n",
       "2               Metal        3\n",
       "3  Alternative & Punk        4\n",
       "4       Rock And Roll        5"
      ]
     },
     "execution_count": 14,
     "metadata": {},
     "output_type": "execute_result"
    }
   ],
   "source": [
    "# sắp xếp lại ID sau khi drop duplicate\n",
    "genre['GenreId'] = range(1, len(genre) + 1)\n",
    "genre.head()"
   ]
  },
  {
   "cell_type": "markdown",
   "metadata": {},
   "source": [
    "### Track"
   ]
  },
  {
   "cell_type": "code",
   "execution_count": 25,
   "metadata": {},
   "outputs": [
    {
     "name": "stdout",
     "output_type": "stream",
     "text": [
      "<class 'pandas.core.frame.DataFrame'>\n",
      "RangeIndex: 3965 entries, 0 to 3964\n",
      "Data columns (total 9 columns):\n",
      " #   Column        Non-Null Count  Dtype  \n",
      "---  ------        --------------  -----  \n",
      " 0   TrackId       3965 non-null   int64  \n",
      " 1   Name          3965 non-null   object \n",
      " 2   AlbumId       3965 non-null   int64  \n",
      " 3   MediaTypeId   3965 non-null   int64  \n",
      " 4   GenreId       3965 non-null   int64  \n",
      " 5   Composer      2988 non-null   object \n",
      " 6   Milliseconds  3965 non-null   int64  \n",
      " 7   Bytes         3965 non-null   int64  \n",
      " 8   UnitPrice     3965 non-null   float64\n",
      "dtypes: float64(1), int64(6), object(2)\n",
      "memory usage: 278.9+ KB\n"
     ]
    }
   ],
   "source": [
    "track.info()"
   ]
  },
  {
   "cell_type": "code",
   "execution_count": null,
   "metadata": {},
   "outputs": [],
   "source": [
    "import random\n",
    "# Function to generate a random GenreId in the range of (26, 257)\n",
    "def random_genre_id():\n",
    "    return random.randint(26, 257)\n",
    "\n",
    "# Data generation\n",
    "track1 = {\n",
    "    \"TrackId\": [],\n",
    "    \"Name\": [],\n",
    "    \"AlbumId\": [],\n",
    "    \"MediaTypeId\": [],\n",
    "    \"GenreId\": [],\n",
    "    \"Composer\": [],\n",
    "    \"Milliseconds\": [],\n",
    "    \"Bytes\": [],\n",
    "    \"UnitPrice\": []\n",
    "}\n",
    "\n",
    "# Sample composers\n",
    "composers = [\n",
    "    \"Angus Young, Malcolm Young, Brian Johnson\", \"John Lennon, Paul McCartney\",\n",
    "    \"Freddie Mercury\", \"Kurt Cobain\", \"Jimi Hendrix\",\n",
    "    \"Mick Jagger, Keith Richards\", \"James Hetfield, Lars Ulrich\",\n",
    "    \"Robert Plant, Jimmy Page\", \"Bono, The Edge\", \"David Bowie\"\n",
    "]\n",
    "\n",
    "track_names = [\n",
    "    \"Whispers in the Dark\", \"Electric Soul\", \"Echoes of Yesterday\", \"Fading Stardust\",\n",
    "    \"Into the Abyss\", \"Chasing Shadows\", \"Lost in the Beat\", \"Midnight Drive\",\n",
    "    \"Starlight Serenade\", \"Dreams of a Rebel\", \"Neon Nights\", \"Burning Bridges\",\n",
    "    \"Frozen in Time\", \"The Last Encore\", \"Revolution's End\", \"Phoenix Rising\",\n",
    "    \"Sunset Overdrive\", \"Violet Skies\", \"Unbroken Chains\", \"Waves of the Past\"\n",
    "]\n",
    "\n",
    "# Generate 231 records\n",
    "for i in range(231):\n",
    "    track1[\"TrackId\"].append(3504 + i)\n",
    "    track1[\"Name\"].append(random.choice(track_names))  # Use a random creative name\n",
    "    track1[\"AlbumId\"].append(random.randint(1, 100))  # Assuming 100 albums\n",
    "    track1[\"MediaTypeId\"].append(random.randint(1, 5))  # Assuming 5 media types\n",
    "    track1[\"GenreId\"].append(random_genre_id())\n",
    "    track1[\"Composer\"].append(random.choice(composers))\n",
    "    track1[\"Milliseconds\"].append(random.randint(200000, 400000))  # Duration between 200,000 and 400,000 ms\n",
    "    track1[\"Bytes\"].append(random.randint(2000000, 10000000))  # Size between 2,000,000 and 10,000,000 bytes\n",
    "    track1[\"UnitPrice\"].append(round(random.uniform(0.99, 1.99), 2))  # Price between 0.99 and 1.99\n",
    "\n",
    "# Create DataFrame\n",
    "track1 = pd.DataFrame(track1)"
   ]
  },
  {
   "cell_type": "code",
   "execution_count": null,
   "metadata": {},
   "outputs": [],
   "source": [
    "track1.value_counts()"
   ]
  },
  {
   "cell_type": "code",
   "execution_count": null,
   "metadata": {},
   "outputs": [],
   "source": [
    "track = pd.concat([track, track1], ignore_index=True)\n",
    "track"
   ]
  },
  {
   "cell_type": "markdown",
   "metadata": {},
   "source": [
    "### InvoiceLine"
   ]
  },
  {
   "cell_type": "code",
   "execution_count": 24,
   "metadata": {},
   "outputs": [
    {
     "name": "stdout",
     "output_type": "stream",
     "text": [
      "<class 'pandas.core.frame.DataFrame'>\n",
      "RangeIndex: 2320 entries, 0 to 2319\n",
      "Data columns (total 5 columns):\n",
      " #   Column         Non-Null Count  Dtype  \n",
      "---  ------         --------------  -----  \n",
      " 0   InvoiceLineId  2320 non-null   int64  \n",
      " 1   InvoiceId      2320 non-null   int64  \n",
      " 2   TrackId        2320 non-null   int64  \n",
      " 3   UnitPrice      2320 non-null   float64\n",
      " 4   Quantity       2320 non-null   int64  \n",
      "dtypes: float64(1), int64(4)\n",
      "memory usage: 90.8 KB\n"
     ]
    }
   ],
   "source": [
    "invoiceline.info()\n"
   ]
  },
  {
   "cell_type": "code",
   "execution_count": null,
   "metadata": {},
   "outputs": [],
   "source": [
    "import pandas as pd\n",
    "import numpy as np\n",
    "\n",
    "# Create a DataFrame to simulate Track table with TrackId and UnitPrice\n",
    "np.random.seed(0)\n",
    "track_data = {\n",
    "    'TrackId': np.arange(1, 3966),\n",
    "    'UnitPrice': np.random.uniform(0.5, 1.5, 3965)\n",
    "}\n",
    "track_df = pd.DataFrame(track_data)\n",
    "\n",
    "# Generate 80 new InvoiceLine records\n",
    "new_invoice_lines = {\n",
    "    'InvoiceLineId': np.arange(2241, 2241 + 80),\n",
    "    'InvoiceId': np.random.randint(1, 413, 80),\n",
    "    'TrackId': np.random.randint(1, 3966, 80),\n",
    "    'Quantity': np.random.choice([1, 2], 80)\n",
    "}\n",
    "\n",
    "new_invoice_lines_df = pd.DataFrame(new_invoice_lines)\n",
    "\n",
    "# Merge to get the UnitPrice from Track table\n",
    "new_invoice_lines_df = new_invoice_lines_df.merge(track_df, on='TrackId')\n",
    "new_invoice_lines_df['UnitPrice'] = new_invoice_lines_df['Quantity'] * track['UnitPrice']\n",
    "\n",
    "# Selecting only the necessary columns\n",
    "invoiceline1 = new_invoice_lines_df[['InvoiceLineId', 'InvoiceId', 'TrackId', 'UnitPrice', 'Quantity']]\n",
    "\n",
    "# Display the new records\n",
    "invoiceline1"
   ]
  },
  {
   "cell_type": "code",
   "execution_count": null,
   "metadata": {},
   "outputs": [],
   "source": [
    "invoiceline = pd.concat([invoiceline, invoiceline1], ignore_index=True)\n",
    "invoiceline"
   ]
  },
  {
   "cell_type": "markdown",
   "metadata": {},
   "source": [
    "### Invoice"
   ]
  },
  {
   "cell_type": "code",
   "execution_count": 23,
   "metadata": {},
   "outputs": [
    {
     "name": "stdout",
     "output_type": "stream",
     "text": [
      "<class 'pandas.core.frame.DataFrame'>\n",
      "RangeIndex: 412 entries, 0 to 411\n",
      "Data columns (total 9 columns):\n",
      " #   Column             Non-Null Count  Dtype  \n",
      "---  ------             --------------  -----  \n",
      " 0   InvoiceId          412 non-null    int64  \n",
      " 1   CustomerId         412 non-null    int64  \n",
      " 2   InvoiceDate        412 non-null    object \n",
      " 3   BillingAddress     412 non-null    object \n",
      " 4   BillingCity        412 non-null    object \n",
      " 5   BillingState       210 non-null    object \n",
      " 6   BillingCountry     412 non-null    object \n",
      " 7   BillingPostalCode  384 non-null    object \n",
      " 8   Total              412 non-null    float64\n",
      "dtypes: float64(1), int64(2), object(6)\n",
      "memory usage: 29.1+ KB\n"
     ]
    }
   ],
   "source": [
    "invoice.info()"
   ]
  },
  {
   "cell_type": "code",
   "execution_count": null,
   "metadata": {},
   "outputs": [],
   "source": [
    "# Compute the sum of UnitPrice for each InvoiceId in the InvoiceLine table\n",
    "invoice_line_sum = invoiceline.groupby('InvoiceId')['UnitPrice'].sum().reset_index()\n",
    "\n",
    "# Rename the UnitPrice column to Total to match the Invoice table\n",
    "invoice_line_sum.rename(columns={'UnitPrice': 'Total'}, inplace=True)\n",
    "\n",
    "# Merge the computed totals with the Invoice table\n",
    "invoice = invoice.merge(invoice_line_sum, on='InvoiceId', how='left', suffixes=('', '_new'))\n",
    "\n",
    "# Update the Total column in the original Invoice table\n",
    "invoice['Total'] = invoice['Total_new']\n",
    "invoice.drop(columns=['Total_new'], inplace=True)\n",
    "\n",
    "# Output the updated Invoice table\n",
    "invoice"
   ]
  },
  {
   "cell_type": "markdown",
   "metadata": {},
   "source": [
    "### Playlist"
   ]
  },
  {
   "cell_type": "code",
   "execution_count": 29,
   "metadata": {},
   "outputs": [
    {
     "name": "stdout",
     "output_type": "stream",
     "text": [
      "<class 'pandas.core.frame.DataFrame'>\n",
      "RangeIndex: 68 entries, 0 to 67\n",
      "Data columns (total 2 columns):\n",
      " #   Column      Non-Null Count  Dtype \n",
      "---  ------      --------------  ----- \n",
      " 0   PlaylistId  68 non-null     int64 \n",
      " 1   Name        68 non-null     object\n",
      "dtypes: int64(1), object(1)\n",
      "memory usage: 1.2+ KB\n"
     ]
    }
   ],
   "source": [
    "playlist.info()"
   ]
  },
  {
   "cell_type": "code",
   "execution_count": null,
   "metadata": {},
   "outputs": [],
   "source": [
    "# Existing Playlist names to avoid duplicates\n",
    "existing_playlist_names = [\n",
    "    \"Music\", \"Movies\", \"TV Shows\", \"Audiobooks\", \"90’s Music\", \"Audiobooks\", \"Movies\",\n",
    "    \"Music\", \"Music Videos\", \"TV Shows\", \"Brazilian Music\", \"Classical\",\n",
    "    \"Classical 101 - Deep Cuts\", \"Classical 101 - Next Steps\", \"Classical 101 - The Basics\",\n",
    "    \"Grunge\", \"Heavy Metal Classic\", \"On-The-Go 1\"\n",
    "]\n",
    "\n",
    "# List of creative name components to generate unique playlist names\n",
    "adjectives = [\"Vibrant\", \"Chill\", \"Epic\", \"Melodic\", \"Funky\", \"Groovy\", \"Smooth\", \"Indie\", \"Electro\", \"Acoustic\", \"Sonic\", \"Urban\", \"Retro\", \"Lush\"]\n",
    "genres = [\"Beats\", \"Vibes\", \"Hits\", \"Jams\", \"Sounds\", \"Anthems\", \"Grooves\", \"Rhythms\", \"Tunes\", \"Melodies\", \"Tunes\", \"Chords\", \"Echoes\", \"Waves\"]\n",
    "\n",
    "# Function to generate a unique playlist name\n",
    "def generate_unique_playlist_name(existing_names):\n",
    "    while True:\n",
    "        adj = random.choice(adjectives)\n",
    "        genre = random.choice(genres)\n",
    "        new_name = f\"{adj} {genre}\"\n",
    "        if new_name not in existing_names:\n",
    "            existing_names.add(new_name)\n",
    "            return new_name\n",
    "\n",
    "# Function to generate random playlist data\n",
    "def generate_playlist_data(playlist_id, existing_names):\n",
    "    playlist_data = {\n",
    "        'PlaylistId': playlist_id,\n",
    "        'Name': generate_unique_playlist_name(existing_names)\n",
    "    }\n",
    "    return playlist_data\n",
    "\n",
    "# Generate 50 records starting from PlaylistId = 19\n",
    "num_records = 50\n",
    "start_playlist_id = 19\n",
    "\n",
    "existing_names_set = set(existing_playlist_names)  # Set to check uniqueness\n",
    "playlists = [generate_playlist_data(playlist_id, existing_names_set) for playlist_id in range(start_playlist_id, start_playlist_id + num_records)]\n",
    "\n",
    "# Convert to DataFrame for easy manipulation\n",
    "playlist1 = pd.DataFrame(playlists)\n",
    "\n",
    "# Show the generated DataFrame\n",
    "print(playlist1)"
   ]
  },
  {
   "cell_type": "code",
   "execution_count": null,
   "metadata": {},
   "outputs": [],
   "source": [
    "playlist = pd.concat([playlist, playlist1], ignore_index=True)\n",
    "playlist"
   ]
  },
  {
   "cell_type": "markdown",
   "metadata": {},
   "source": [
    "### PlaylistTrack"
   ]
  },
  {
   "cell_type": "code",
   "execution_count": 32,
   "metadata": {},
   "outputs": [
    {
     "name": "stdout",
     "output_type": "stream",
     "text": [
      "<class 'pandas.core.frame.DataFrame'>\n",
      "RangeIndex: 253912 entries, 0 to 253911\n",
      "Data columns (total 2 columns):\n",
      " #   Column      Non-Null Count   Dtype\n",
      "---  ------      --------------   -----\n",
      " 0   PlaylistId  253912 non-null  int64\n",
      " 1   TrackId     253912 non-null  int64\n",
      "dtypes: int64(2)\n",
      "memory usage: 3.9 MB\n"
     ]
    }
   ],
   "source": [
    "playlisttrack.info()"
   ]
  },
  {
   "cell_type": "code",
   "execution_count": null,
   "metadata": {},
   "outputs": [],
   "source": [
    "# Create the PlaylistTrack table by pairing every PlaylistId with every TrackId\n",
    "def create_playlist_track_composite(playlist_df, track_df):\n",
    "    # Perform a cross join to create all possible PlaylistId and TrackId pairs\n",
    "    playlist_track_df = pd.merge(playlist_df[['PlaylistId']].assign(key=1),\n",
    "                                  track_df[['TrackId']].assign(key=1),\n",
    "                                  on='key').drop('key', axis=1)\n",
    "    return playlist_track_df\n",
    "\n",
    "# Generate the PlaylistTrack composite table\n",
    "playlisttrack1 = create_playlist_track_composite(playlist, track)\n",
    "\n",
    "# Show the first few rows of the PlaylistTrack composite table\n",
    "playlisttrack1"
   ]
  },
  {
   "cell_type": "code",
   "execution_count": null,
   "metadata": {},
   "outputs": [],
   "source": [
    "playlisttrack = pd.concat([playlisttrack, playlisttrack1], ignore_index=True)\n",
    "playlisttrack"
   ]
  },
  {
   "cell_type": "markdown",
   "metadata": {},
   "source": [
    "### Save to csv"
   ]
  },
  {
   "cell_type": "code",
   "execution_count": null,
   "metadata": {},
   "outputs": [],
   "source": [
    "# genre.to_csv('./data/Genre.csv'', index=False)\n",
    "# track.to_csv('./data/Track.csv'', index=False)\n",
    "# playlist.to_csv('./data/Playlist.csv'', index=False)\n",
    "# playlisttrack.to_csv('./data/PlaylistTrack.csv'', index=False)\n",
    "# invoiceline.to_csv('./data/InvoiceLine.csv'', index=False)\n",
    "# invoice.to_csv('./data/Invoice.csv'', index=False)"
   ]
  },
  {
   "cell_type": "markdown",
   "metadata": {},
   "source": [
    "## EDA"
   ]
  },
  {
   "cell_type": "code",
   "execution_count": 33,
   "metadata": {},
   "outputs": [],
   "source": [
    "genre = pd.read_csv('./data/Genre.csv')\n",
    "track = pd.read_csv('./data/Track.csv')\n",
    "invoiceline = pd.read_csv('./data/InvoiceLine.csv')\n",
    "playlist = pd.read_csv('./data/Playlist.csv')\n",
    "playlisttrack = pd.read_csv('./data/PlaylistTrack.csv')\n",
    "album = pd.read_csv('./data/Album.csv')\n",
    "artist = pd.read_csv('./data/Artist.csv')\n",
    "customer = pd.read_csv('./data/Customer.csv')\n",
    "employee = pd.read_csv('./data/Employee.csv')\n",
    "media_type = pd.read_csv('./data/MediaType.csv')"
   ]
  },
  {
   "cell_type": "markdown",
   "metadata": {},
   "source": []
  }
 ],
 "metadata": {
  "kernelspec": {
   "display_name": "base",
   "language": "python",
   "name": "python3"
  },
  "language_info": {
   "codemirror_mode": {
    "name": "ipython",
    "version": 3
   },
   "file_extension": ".py",
   "mimetype": "text/x-python",
   "name": "python",
   "nbconvert_exporter": "python",
   "pygments_lexer": "ipython3",
   "version": "3.11.4"
  }
 },
 "nbformat": 4,
 "nbformat_minor": 2
}
